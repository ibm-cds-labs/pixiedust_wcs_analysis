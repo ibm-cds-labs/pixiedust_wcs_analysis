{
 "cells": [
  {
   "cell_type": "code",
   "execution_count": 1,
   "metadata": {},
   "outputs": [
    {
     "name": "stdout",
     "output_type": "stream",
     "text": [
      "Pixiedust database opened successfully\n"
     ]
    },
    {
     "data": {
      "text/html": [
       "\n",
       "        <div style=\"margin:10px\">\n",
       "            <a href=\"https://github.com/ibm-cds-labs/pixiedust\" target=\"_new\">\n",
       "                <img src=\"https://github.com/ibm-cds-labs/pixiedust/raw/master/docs/_static/pd_icon32.png\" style=\"float:left;margin-right:10px\"/>\n",
       "            </a>\n",
       "            <span>Pixiedust version 1.0.4</span>\n",
       "        </div>\n",
       "        "
      ],
      "text/plain": [
       "<IPython.core.display.HTML object>"
      ]
     },
     "metadata": {},
     "output_type": "display_data"
    }
   ],
   "source": [
    "from pixiedust.display.app import *\n",
    "import requests\n",
    "import re\n",
    "\n",
    "CLOUDANT_CONN_TYPE = \"cloudant\"\n",
    "BASELINE_PREFIX = \"baseline\"\n",
    "\n",
    "@PixieApp\n",
    "class SelectBaseline():    \n",
    "    def getExistingBaselines(self):\n",
    "        conn = json.loads( getConnection(CLOUDANT_CONN_TYPE, self.connection)[\"PAYLOAD\"])[\"credentials\"]\n",
    "        url = conn['url'] + \"/_all_dbs\"\n",
    "        listDbs = requests.get(url).json()\n",
    "        return [db for db in listDbs if re.match(\"{}-([\\\\w\\\\$])+$\".format(BASELINE_PREFIX),db)]\n",
    "                                                 \n",
    "    @route(connection=\"*\", existing_baselines=\"true\")\n",
    "    def selectBaseline(self):\n",
    "        return \"\"\"\n",
    "<div>\n",
    "  <div class=\"form-horizontal\">\n",
    "    <div class=\"form-group\">\n",
    "      <label class=\"control-label col-sm-2\">Select a baseline to work with:</label>\n",
    "      <div class=\"col-sm-5\">\n",
    "        <select class=\"form-control\" id=\"baseline{{prefix}}\">\n",
    "          {%for baseline in this.getExistingBaselines() %}\n",
    "              <option value=\"{{baseline|escape}}\">{{baseline|escape}}</option>\n",
    "          {%endfor%}\n",
    "        </select>\n",
    "      </div>\n",
    "      <div class=\"col-sm-1\">\n",
    "        <button type=\"submit\" class=\"btn btn-primary\" pd_script=\"self.workingBaseline = $val(baseline{{prefix}})\">Go</button>\n",
    "      </div>\n",
    "    </div>\n",
    "  </div>\n",
    "</div>\n",
    "\"\"\""
   ]
  },
  {
   "cell_type": "code",
   "execution_count": 3,
   "metadata": {},
   "outputs": [
    {
     "data": {
      "text/html": [
       "<style type=\"text/css\">.pd_warning{display:none;}</style><div class=\"pd_warning\"><em>Hey, there's something awesome here! To see it, open this notebook outside GitHub, in a viewer like Jupyter</em></div>"
      ],
      "text/plain": [
       "<IPython.core.display.HTML object>"
      ]
     },
     "metadata": {},
     "output_type": "display_data"
    },
    {
     "data": {
      "text/html": [
       "<style type=\"text/css\">.pd_warning{display:none;}</style><div class=\"pd_warning\"><em>Hey, there's something awesome here! To see it, open this notebook outside GitHub, in a viewer like Jupyter</em></div>"
      ],
      "text/plain": [
       "<IPython.core.display.HTML object>"
      ]
     },
     "metadata": {},
     "output_type": "display_data"
    },
    {
     "data": {
      "text/html": [
       "<style type=\"text/css\">.pd_warning{display:none;}</style><div class=\"pd_warning\"><em>Hey, there's something awesome here! To see it, open this notebook outside GitHub, in a viewer like Jupyter</em></div>"
      ],
      "text/plain": [
       "<IPython.core.display.HTML object>"
      ]
     },
     "metadata": {},
     "output_type": "display_data"
    }
   ],
   "source": [
    "from pixiedust.display.app import *\n",
    "from pixiedust.utils import Logger\n",
    "from pixiedust.utils.shellAccess import ShellAccess\n",
    "from requests.auth import HTTPBasicAuth\n",
    "import base64\n",
    "import json\n",
    "import time\n",
    "import pandas as pd\n",
    "from pandas.io.json import json_normalize\n",
    "from pixiedust.services.serviceManager import *\n",
    "headers={\n",
    "    \"X-Watson-Origin\" : \"anything\"\n",
    "}\n",
    "@PixieApp\n",
    "@Logger()\n",
    "class ConversationLogger(SelectBaseline):\n",
    "    def fetchLogs(self):\n",
    "        ws_id = \"7ff0c3c2-a08a-4d3d-b13b-b6a9b62a4296\"\n",
    "        response = requests.get(\"https://gateway.watsonplatform.net/conversation/api/v1/workspaces/\"+ ws_id + \"/logs?version=2017-04-21\", \n",
    "                                headers = headers,\n",
    "                                auth=HTTPBasicAuth('50c95e08-34ef-453f-99f7-66d93df2641c','TlZczNCmdtlG')\n",
    "                                ).json()['logs']\n",
    "        \n",
    "        self.debug(\"json log: {}\".format(json.dumps(response[0], indent=2)))\n",
    "        selectedCols = {'request.input.text':'input', 'response.intents':'intents', 'request_timestamp':'inputDate'}\n",
    "        pdf = json_normalize(response)[selectedCols.keys()]\n",
    "        pdf.columns= selectedCols.values()\n",
    "        pdf=pdf[ (pd.notnull(pdf['input'])) & (pdf['input']!=\"\")]\n",
    "        pdf.drop_duplicates(subset='input',inplace=True)\n",
    "        pdf['intent'] = pdf.apply (lambda row: row['intents'][0]['intent'], axis=1)\n",
    "        pdf['confidence'] = pdf.apply (lambda row: row['intents'][0]['confidence'],axis=1)\n",
    "        del pdf['intents']\n",
    "        self.log = ShellAccess.sqlContext.createDataFrame(pdf)\n",
    "        \n",
    "    def getConnections(self):\n",
    "        return getConnections(CLOUDANT_CONN_TYPE)\n",
    "    \n",
    "    def getNewBaselineName(self):\n",
    "        return \"{}-{}\".format(BASELINE_PREFIX, time.strftime('%Y%m%d$%H%M%S'))\n",
    "\n",
    "    @route(save='true')\n",
    "    def saveToCloudant(self):\n",
    "        self.debug(\"Saving to Cloudant\")\n",
    "        print(\"Saving\")\n",
    "        \n",
    "    @route()\n",
    "    def selectConnection(self):\n",
    "        return \"\"\"\n",
    "<div>\n",
    "  <div class=\"form-horizontal\">\n",
    "    <div class=\"form-group\">\n",
    "      <label for=\"connection{{prefix}}\" class=\"control-label col-sm-2\">Select a cloudant connection:</label>\n",
    "      <div class=\"col-sm-5\">\n",
    "        <select class=\"form-control\" id=\"connection{{prefix}}\">\n",
    "          {%for conn in this.getConnections() %}\n",
    "              <option value=\"{{conn.name|escape}}\">{{conn.name|escape}}</option>\n",
    "          {%endfor%}\n",
    "        </select>\n",
    "      </div>\n",
    "      <div class=\"col-sm-1\">\n",
    "        <button type=\"submit\" class=\"btn btn-primary\" pd_options=\"existing_baselines=true\" pd_script=\"self.connection = $val(connection{{prefix}})\">Work with Existing Baselines</button>\n",
    "        <button type=\"submit\" class=\"btn btn-primary\" pd_options=\"new_baseline=true\">Create a new Baseline\n",
    "            <pd_script>\n",
    "self.connection = $val(connection{{prefix}})\n",
    "self.newBaselineDbName = self.getNewBaselineName()\n",
    "            </pd_script>\n",
    "        </button>\n",
    "      </div>\n",
    "    </div>\n",
    "  </div>\n",
    "</div>        \n",
    "        \"\"\"\n",
    "    \n",
    "    @route(connection=\"*\", new_baseline=\"true\")\n",
    "    def newBaseline(self):\n",
    "        return \"\"\"\n",
    "<div>\n",
    "    <button pd_entity=\"log\" pd_options=\"handlerId=dataframe;table_noschema=true\" pd_target=\"json{{prefix}}\" type=\"submit\" class=\"btn btn-primary\">Fetch Logs for last 90 days\n",
    "        <pd_script>\n",
    "            self.fetchLogs()\n",
    "        </pd_script>\n",
    "    </button>\n",
    "    <button pd_target=\"json{{prefix}}\" pd_entity=\"log\" pd_options=\"handlerId=stashCloudant;nostore_dbName={{this.newBaselineDbName}};nostore_connection={{this.connection}}\" type=\"submit\" class=\"btn btn-primary\">Save to Cloudant\n",
    "    </button>\n",
    "</div>\n",
    "<div id=\"json{{prefix}}\">\n",
    "</div>        \n",
    "        \"\"\"\n",
    "    \n",
    "a = ConversationLogger()\n",
    "a.run()"
   ]
  },
  {
   "cell_type": "code",
   "execution_count": 10,
   "metadata": {
    "pixiedust": {
     "displayParams": {
      "aggregation": "COUNT",
      "handlerId": "barChart",
      "keyFields": "intent",
      "legend": "false",
      "rendererId": "bokeh",
      "rowCount": "10000",
      "valueFields": "confidence"
     }
    }
   },
   "outputs": [
    {
     "data": {
      "text/html": [
       "<style type=\"text/css\">.pd_warning{display:none;}</style><div class=\"pd_warning\"><em>Hey, there's something awesome here! To see it, open this notebook outside GitHub, in a viewer like Jupyter</em></div>\n",
       "        <div class=\"pd_save is-viewer-good\" style=\"padding-right:10px;text-align: center;line-height:initial !important;font-size: xx-large;font-weight: 500;color: coral;\">\n",
       "            \n",
       "        </div>\n",
       "    <div id=\"chartFigure0db9439f\" class=\"pd_save is-viewer-good\" style=\"overflow-x:auto\">\n",
       "            \n",
       "                    \n",
       "\n",
       "    <div class=\"bk-root\">\n",
       "        <div class=\"bk-grid-column bk-layout-fixed\" id=\"modelid_940d6a2f-d976-4899-9899-4771242f2ad9\" style=\"width: 803px; height: 631px;\"><div class=\"bk-toolbar-box bk-layout-scale_width\" id=\"modelid_d839705d-6fa7-4bfb-912b-4f8f27c4420c\" style=\"width: 803px; height: 30px;\"><div class=\"bk-toolbar-wrapper bk-layout-scale_width\" id=\"modelid_ToolbarBoxToolbar-D8D0CE555D03462E926A500D8D60102F\" style=\"left: 0px; top: 0px; width: 803px; height: 30px;\"><div class=\"bk-toolbar-above bk-toolbar-not-sticky\"><a href=\"http://bokeh.pydata.org/\" target=\"_blank\" class=\"bk-logo bk-logo-small\"></a><div class=\"bk-button-bar\"><div class=\"bk-button-bar-list\" type=\"pan\"><div class=\"bk-toolbar-button bk-active\"><div class=\"bk-btn-icon bk-tool-icon-pan\"></div><span class=\"bk-tip\">Pan</span></div><div class=\"bk-toolbar-button\"><div class=\"bk-btn-icon bk-tool-icon-box-zoom\"></div><span class=\"bk-tip\">Box Zoom</span></div></div><div class=\"bk-button-bar-list\" type=\"scroll\"><div class=\"bk-toolbar-button\"><div class=\"bk-btn-icon bk-tool-icon-wheel-zoom\"></div><span class=\"bk-tip\">Wheel Zoom</span></div></div><div class=\"bk-button-bar-list\" type=\"pinch\"></div><div class=\"bk-button-bar-list\" type=\"tap\"></div><div class=\"bk-button-bar-list\" type=\"press\"></div><div class=\"bk-button-bar-list\" type=\"rotate\"></div><div class=\"bk-button-bar-list\" type=\"actions\"><div class=\"bk-toolbar-button\"><div class=\"bk-btn-icon bk-tool-icon-save\"></div><span class=\"bk-tip\">Save</span></div><div class=\"bk-toolbar-button\"><div class=\"bk-btn-icon bk-tool-icon-reset\"></div><span class=\"bk-tip\">Reset</span></div></div><div class=\"bk-button-bar-list\" type=\"inspectors\"></div><div class=\"bk-button-bar-list\" type=\"help\"><div class=\"bk-toolbar-button\"><div class=\"bk-btn-icon bk-tool-icon-help\"></div><span class=\"bk-tip\">Click the question mark to learn more about Bokeh plot tools.</span></div></div></div></div></div></div><div class=\"bk-grid-column bk-layout-fixed\" id=\"modelid_7c0f8b81-25ef-4534-911a-64561752eaaf\" style=\"width: 803px; height: 601px;\"><div class=\"bk-grid-row bk-layout-fixed\" id=\"modelid_85e6f7f8-f1c1-4a88-9f64-c4feecff549b\" style=\"width: 803px; height: 601px;\"><div class=\"bk-plot-layout bk-layout-fixed\" id=\"modelid_be57ac38-5305-4488-b56d-b4a2f06eab8a\" style=\"width: 803px; height: 601px;\"><div class=\"bk-plot-wrapper\" style=\"position: absolute; left: 0px; top: 0px; width: 803px; height: 601px;\"><div class=\"bk-canvas-wrapper\" style=\"touch-action: none; user-select: none; -webkit-user-drag: none; -webkit-tap-highlight-color: rgba(0, 0, 0, 0); width: 803px; height: 601px; cursor: default;\"><div class=\"bk-canvas-events\"></div><div class=\"bk-canvas-overlays\"><div class=\"bk-shading\" style=\"display: none;\"></div></div><canvas class=\"bk-canvas\" width=\"1445.3999617099762\" height=\"1081.7999713420868\" style=\"width: 803px; height: 601px;\"></canvas></div></div></div></div></div></div>\n",
       "    </div>\n",
       "<script type=\"text/javascript\">\n",
       "  \n",
       "  (function(global) {\n",
       "    function now() {\n",
       "      return new Date();\n",
       "    }\n",
       "  \n",
       "    var force = false;\n",
       "  \n",
       "    if (typeof (window._bokeh_onload_callbacks) === \"undefined\" || force === true) {\n",
       "      window._bokeh_onload_callbacks = [];\n",
       "      window._bokeh_is_loading = undefined;\n",
       "    }\n",
       "  \n",
       "  \n",
       "    \n",
       "    if (typeof (window._bokeh_timeout) === \"undefined\" || force === true) {\n",
       "      window._bokeh_timeout = Date.now() + 0;\n",
       "      window._bokeh_failed_load = false;\n",
       "    }\n",
       "  \n",
       "    var NB_LOAD_WARNING = {'data': {'text/html':\n",
       "       \"<div style='background-color: #fdd'>\\n\"+\n",
       "       \"<p>\\n\"+\n",
       "       \"BokehJS does not appear to have successfully loaded. If loading BokehJS from CDN, this \\n\"+\n",
       "       \"may be due to a slow or bad network connection. Possible fixes:\\n\"+\n",
       "       \"</p>\\n\"+\n",
       "       \"<ul>\\n\"+\n",
       "       \"<li>re-rerun `output_notebook()` to attempt to load from CDN again, or</li>\\n\"+\n",
       "       \"<li>use INLINE resources instead, as so:</li>\\n\"+\n",
       "       \"</ul>\\n\"+\n",
       "       \"<code>\\n\"+\n",
       "       \"from bokeh.resources import INLINE\\n\"+\n",
       "       \"output_notebook(resources=INLINE)\\n\"+\n",
       "       \"</code>\\n\"+\n",
       "       \"</div>\"}};\n",
       "  \n",
       "    function display_loaded() {\n",
       "      if (window.Bokeh !== undefined) {\n",
       "        var el = document.getElementById(\"7be1c772-8272-4923-a955-596175b40dd2\");\n",
       "        el.textContent = \"BokehJS \" + Bokeh.version + \" successfully loaded.\";\n",
       "      } else if (Date.now() < window._bokeh_timeout) {\n",
       "        setTimeout(display_loaded, 100)\n",
       "      }\n",
       "    }\n",
       "  \n",
       "    function run_callbacks() {\n",
       "      window._bokeh_onload_callbacks.forEach(function(callback) { callback() });\n",
       "      delete window._bokeh_onload_callbacks\n",
       "      console.info(\"Bokeh: all callbacks have finished\");\n",
       "    }\n",
       "  \n",
       "    function load_libs(js_urls, callback) {\n",
       "      window._bokeh_onload_callbacks.push(callback);\n",
       "      if (window._bokeh_is_loading > 0) {\n",
       "        console.log(\"Bokeh: BokehJS is being loaded, scheduling callback at\", now());\n",
       "        return null;\n",
       "      }\n",
       "      if (js_urls == null || js_urls.length === 0) {\n",
       "        run_callbacks();\n",
       "        return null;\n",
       "      }\n",
       "      console.log(\"Bokeh: BokehJS not loaded, scheduling load and callback at\", now());\n",
       "      window._bokeh_is_loading = js_urls.length;\n",
       "      for (var i = 0; i < js_urls.length; i++) {\n",
       "        var url = js_urls[i];\n",
       "        var s = document.createElement('script');\n",
       "        s.src = url;\n",
       "        s.async = false;\n",
       "        s.onreadystatechange = s.onload = function() {\n",
       "          window._bokeh_is_loading--;\n",
       "          if (window._bokeh_is_loading === 0) {\n",
       "            console.log(\"Bokeh: all BokehJS libraries loaded\");\n",
       "            run_callbacks()\n",
       "          }\n",
       "        };\n",
       "        s.onerror = function() {\n",
       "          console.warn(\"failed to load library \" + url);\n",
       "        };\n",
       "        console.log(\"Bokeh: injecting script tag for BokehJS library: \", url);\n",
       "        document.getElementsByTagName(\"head\")[0].appendChild(s);\n",
       "      }\n",
       "    };var element = document.getElementById(\"7be1c772-8272-4923-a955-596175b40dd2\");\n",
       "    if (element == null) {\n",
       "      console.log(\"Bokeh: ERROR: autoload.js configured with elementid '7be1c772-8272-4923-a955-596175b40dd2' but no matching script tag was found. \")\n",
       "      return false;\n",
       "    }\n",
       "  \n",
       "    var js_urls = [];\n",
       "  \n",
       "    var inline_js = [\n",
       "      function(Bokeh) {\n",
       "        (function() {\n",
       "          var fn = function() {\n",
       "            var docs_json = {\"e7bc0ac0-668f-496f-ae25-b6bfa2af909d\":{\"roots\":{\"references\":[{\"attributes\":{\"plot\":null,\"text\":null},\"id\":\"a1460fce-83ff-433e-bb4a-005fdf3acc60\",\"type\":\"Title\"},{\"attributes\":{},\"id\":\"f0b454ac-a9a3-4f8f-8020-88b3ffa2a6b9\",\"type\":\"BasicTickFormatter\"},{\"attributes\":{\"fill_alpha\":{\"field\":\"fill_alpha\"},\"fill_color\":{\"field\":\"color\"},\"height\":{\"field\":\"height\",\"units\":\"data\"},\"line_color\":{\"field\":\"line_color\"},\"width\":{\"field\":\"width\",\"units\":\"data\"},\"x\":{\"field\":\"x\"},\"y\":{\"field\":\"y\"}},\"id\":\"c1dc1a0b-e7a7-40c0-8115-f47ca9854d7f\",\"type\":\"Rect\"},{\"attributes\":{\"children\":[{\"id\":\"be57ac38-5305-4488-b56d-b4a2f06eab8a\",\"subtype\":\"Chart\",\"type\":\"Plot\"}]},\"id\":\"85e6f7f8-f1c1-4a88-9f64-c4feecff549b\",\"type\":\"Row\"},{\"attributes\":{\"data_source\":{\"id\":\"9b123e6c-bfd6-47b8-b6c4-e3d416b0ba1e\",\"type\":\"ColumnDataSource\"},\"glyph\":{\"id\":\"c1dc1a0b-e7a7-40c0-8115-f47ca9854d7f\",\"type\":\"Rect\"},\"hover_glyph\":null,\"muted_glyph\":null},\"id\":\"8af7110d-6db1-4771-94b6-a802836d4a6f\",\"type\":\"GlyphRenderer\"},{\"attributes\":{\"fill_alpha\":{\"field\":\"fill_alpha\"},\"fill_color\":{\"field\":\"color\"},\"height\":{\"field\":\"height\",\"units\":\"data\"},\"line_color\":{\"field\":\"line_color\"},\"width\":{\"field\":\"width\",\"units\":\"data\"},\"x\":{\"field\":\"x\"},\"y\":{\"field\":\"y\"}},\"id\":\"dc8cb0d9-5385-422f-9abb-4ce222b086a5\",\"type\":\"Rect\"},{\"attributes\":{\"plot\":{\"id\":\"be57ac38-5305-4488-b56d-b4a2f06eab8a\",\"subtype\":\"Chart\",\"type\":\"Plot\"}},\"id\":\"33617d35-0ef2-4f01-8715-0144f2fcb7e7\",\"type\":\"HelpTool\"},{\"attributes\":{\"fill_alpha\":{\"field\":\"fill_alpha\"},\"fill_color\":{\"field\":\"color\"},\"height\":{\"field\":\"height\",\"units\":\"data\"},\"line_color\":{\"field\":\"line_color\"},\"width\":{\"field\":\"width\",\"units\":\"data\"},\"x\":{\"field\":\"x\"},\"y\":{\"field\":\"y\"}},\"id\":\"68ebcb8d-ec33-4a0d-9f29-8d598e1e5c5b\",\"type\":\"Rect\"},{\"attributes\":{\"fill_alpha\":{\"field\":\"fill_alpha\"},\"fill_color\":{\"field\":\"color\"},\"height\":{\"field\":\"height\",\"units\":\"data\"},\"line_color\":{\"field\":\"line_color\"},\"width\":{\"field\":\"width\",\"units\":\"data\"},\"x\":{\"field\":\"x\"},\"y\":{\"field\":\"y\"}},\"id\":\"5634efa9-13c8-4941-baa5-19db11ccf808\",\"type\":\"Rect\"},{\"attributes\":{\"callback\":null,\"column_names\":[\"line_color\",\"line_alpha\",\"color\",\"fill_alpha\",\"height\",\"width\",\"y\",\"x\",\"label\"],\"data\":{\"chart_index\":[{\"intent\":\"navigation\"}],\"color\":[\"#f22c40\"],\"fill_alpha\":[0.8],\"height\":[1.0],\"intent\":[\"navigation\"],\"label\":[{\"intent\":\"navigation\"}],\"line_alpha\":[1.0],\"line_color\":[\"white\"],\"width\":[0.8],\"x\":[\"navigation\"],\"y\":[0.5]}},\"id\":\"a15f0438-eb8a-4667-b86b-18ea0f353b4d\",\"type\":\"ColumnDataSource\"},{\"attributes\":{\"data_source\":{\"id\":\"dbe67b08-e453-486c-822c-5e8edf1185b1\",\"type\":\"ColumnDataSource\"},\"glyph\":{\"id\":\"853cb532-4981-411e-90ba-18ca6cf707c1\",\"type\":\"Rect\"},\"hover_glyph\":null,\"muted_glyph\":null},\"id\":\"ab6cfaf1-99cb-49f8-9445-de4a6f0df158\",\"type\":\"GlyphRenderer\"},{\"attributes\":{\"fill_alpha\":{\"field\":\"fill_alpha\"},\"fill_color\":{\"field\":\"color\"},\"height\":{\"field\":\"height\",\"units\":\"data\"},\"line_color\":{\"field\":\"line_color\"},\"width\":{\"field\":\"width\",\"units\":\"data\"},\"x\":{\"field\":\"x\"},\"y\":{\"field\":\"y\"}},\"id\":\"5a49384a-c7ad-41bf-8cb4-1c735c78b41b\",\"type\":\"Rect\"},{\"attributes\":{\"data_source\":{\"id\":\"29879b29-7340-4e1e-9457-6d1cbca07ec7\",\"type\":\"ColumnDataSource\"},\"glyph\":{\"id\":\"4f9f53ea-3d94-4bd4-ac4f-3946f261317e\",\"type\":\"Rect\"},\"hover_glyph\":null,\"muted_glyph\":null},\"id\":\"446e5975-e77d-4621-b66c-bc8ca4e48389\",\"type\":\"GlyphRenderer\"},{\"attributes\":{\"callback\":null,\"column_names\":[\"line_color\",\"line_alpha\",\"color\",\"fill_alpha\",\"height\",\"width\",\"y\",\"x\",\"label\"],\"data\":{\"chart_index\":[{\"intent\":\"capabilities\"}],\"color\":[\"#f22c40\"],\"fill_alpha\":[0.8],\"height\":[7.0],\"intent\":[\"capabilities\"],\"label\":[{\"intent\":\"capabilities\"}],\"line_alpha\":[1.0],\"line_color\":[\"white\"],\"width\":[0.8],\"x\":[\"capabilities\"],\"y\":[3.5]}},\"id\":\"9b123e6c-bfd6-47b8-b6c4-e3d416b0ba1e\",\"type\":\"ColumnDataSource\"},{\"attributes\":{\"data_source\":{\"id\":\"a15f0438-eb8a-4667-b86b-18ea0f353b4d\",\"type\":\"ColumnDataSource\"},\"glyph\":{\"id\":\"5a49384a-c7ad-41bf-8cb4-1c735c78b41b\",\"type\":\"Rect\"},\"hover_glyph\":null,\"muted_glyph\":null},\"id\":\"62fe2a90-bc37-418a-bcd9-dd76cf4a9c64\",\"type\":\"GlyphRenderer\"},{\"attributes\":{\"axis_label\":\"confidence\",\"formatter\":{\"id\":\"f0b454ac-a9a3-4f8f-8020-88b3ffa2a6b9\",\"type\":\"BasicTickFormatter\"},\"plot\":{\"id\":\"be57ac38-5305-4488-b56d-b4a2f06eab8a\",\"subtype\":\"Chart\",\"type\":\"Plot\"},\"ticker\":{\"id\":\"fcf3895d-7322-4acf-8ea1-c1601075b46e\",\"type\":\"BasicTicker\"}},\"id\":\"f0315101-c07b-449b-b734-fc0d126de95b\",\"type\":\"LinearAxis\"},{\"attributes\":{\"fill_alpha\":{\"field\":\"fill_alpha\"},\"fill_color\":{\"field\":\"color\"},\"height\":{\"field\":\"height\",\"units\":\"data\"},\"line_color\":{\"field\":\"line_color\"},\"width\":{\"field\":\"width\",\"units\":\"data\"},\"x\":{\"field\":\"x\"},\"y\":{\"field\":\"y\"}},\"id\":\"853cb532-4981-411e-90ba-18ca6cf707c1\",\"type\":\"Rect\"},{\"attributes\":{\"data_source\":{\"id\":\"61b96f80-6ba4-480a-b3ce-c272eb2e4dfd\",\"type\":\"ColumnDataSource\"},\"glyph\":{\"id\":\"185ce5fd-84c1-40b2-b88a-8eba04daac13\",\"type\":\"Rect\"},\"hover_glyph\":null,\"muted_glyph\":null},\"id\":\"341a5fc8-f405-4d97-ba75-eb0c74fb9439\",\"type\":\"GlyphRenderer\"},{\"attributes\":{\"data_source\":{\"id\":\"be2064d1-abaa-4aa4-83e6-a680feb6f730\",\"type\":\"ColumnDataSource\"},\"glyph\":{\"id\":\"19a85bad-8fd3-403e-997a-0bd8c9c67764\",\"type\":\"Rect\"},\"hover_glyph\":null,\"muted_glyph\":null},\"id\":\"9d6fa10d-91c0-43ac-9932-b7b0787d4d1d\",\"type\":\"GlyphRenderer\"},{\"attributes\":{\"data_source\":{\"id\":\"f6205c06-cf45-4cdd-bc85-777f5a0d82b4\",\"type\":\"ColumnDataSource\"},\"glyph\":{\"id\":\"5634efa9-13c8-4941-baa5-19db11ccf808\",\"type\":\"Rect\"},\"hover_glyph\":null,\"muted_glyph\":null},\"id\":\"924012e0-0f97-4a85-a2c8-8c1cd410cf61\",\"type\":\"GlyphRenderer\"},{\"attributes\":{\"plot\":{\"id\":\"be57ac38-5305-4488-b56d-b4a2f06eab8a\",\"subtype\":\"Chart\",\"type\":\"Plot\"}},\"id\":\"ceeffbab-a0a6-4bcb-93a8-6cd878381bdf\",\"type\":\"SaveTool\"},{\"attributes\":{\"callback\":null,\"column_names\":[\"line_color\",\"line_alpha\",\"color\",\"fill_alpha\",\"height\",\"width\",\"y\",\"x\",\"label\"],\"data\":{\"chart_index\":[{\"intent\":\"turn_off\"}],\"color\":[\"#f22c40\"],\"fill_alpha\":[0.8],\"height\":[1.0],\"intent\":[\"turn_off\"],\"label\":[{\"intent\":\"turn_off\"}],\"line_alpha\":[1.0],\"line_color\":[\"white\"],\"width\":[0.8],\"x\":[\"turn_off\"],\"y\":[0.5]}},\"id\":\"8ccd7bb3-5df3-4760-86e6-35e07b71a6b5\",\"type\":\"ColumnDataSource\"},{\"attributes\":{\"fill_alpha\":{\"field\":\"fill_alpha\"},\"fill_color\":{\"field\":\"color\"},\"height\":{\"field\":\"height\",\"units\":\"data\"},\"line_color\":{\"field\":\"line_color\"},\"width\":{\"field\":\"width\",\"units\":\"data\"},\"x\":{\"field\":\"x\"},\"y\":{\"field\":\"y\"}},\"id\":\"e7c5d3ca-38f2-4d4d-8d7e-e2644e085b82\",\"type\":\"Rect\"},{\"attributes\":{\"fill_alpha\":{\"field\":\"fill_alpha\"},\"fill_color\":{\"field\":\"color\"},\"height\":{\"field\":\"height\",\"units\":\"data\"},\"line_color\":{\"field\":\"line_color\"},\"width\":{\"field\":\"width\",\"units\":\"data\"},\"x\":{\"field\":\"x\"},\"y\":{\"field\":\"y\"}},\"id\":\"4f9f53ea-3d94-4bd4-ac4f-3946f261317e\",\"type\":\"Rect\"},{\"attributes\":{\"children\":[{\"id\":\"85e6f7f8-f1c1-4a88-9f64-c4feecff549b\",\"type\":\"Row\"}]},\"id\":\"7c0f8b81-25ef-4534-911a-64561752eaaf\",\"type\":\"Column\"},{\"attributes\":{\"callback\":null,\"end\":31.5},\"id\":\"69fb1bca-3224-4a9c-bd5e-89fcc2c2845f\",\"type\":\"Range1d\"},{\"attributes\":{\"callback\":null,\"column_names\":[\"line_color\",\"line_alpha\",\"color\",\"fill_alpha\",\"height\",\"width\",\"y\",\"x\",\"label\"],\"data\":{\"chart_index\":[{\"intent\":\"traffic_update\"}],\"color\":[\"#f22c40\"],\"fill_alpha\":[0.8],\"height\":[2.0],\"intent\":[\"traffic_update\"],\"label\":[{\"intent\":\"traffic_update\"}],\"line_alpha\":[1.0],\"line_color\":[\"white\"],\"width\":[0.8],\"x\":[\"traffic_update\"],\"y\":[1.0]}},\"id\":\"b0bd74a8-e9b3-40f5-8841-02413abc2681\",\"type\":\"ColumnDataSource\"},{\"attributes\":{},\"id\":\"0f6511c4-907f-41fb-8dba-84d3e2efda48\",\"type\":\"CategoricalTickFormatter\"},{\"attributes\":{\"fill_alpha\":{\"field\":\"fill_alpha\"},\"fill_color\":{\"field\":\"color\"},\"height\":{\"field\":\"height\",\"units\":\"data\"},\"line_color\":{\"field\":\"line_color\"},\"width\":{\"field\":\"width\",\"units\":\"data\"},\"x\":{\"field\":\"x\"},\"y\":{\"field\":\"y\"}},\"id\":\"f4536db7-65cb-4c91-8ad3-793c6622e8f8\",\"type\":\"Rect\"},{\"attributes\":{\"data_source\":{\"id\":\"18d729bd-7f9d-488a-a6b8-bc52546c4451\",\"type\":\"ColumnDataSource\"},\"glyph\":{\"id\":\"80822290-e4bc-479c-98bf-4bc0c65f41d8\",\"type\":\"Rect\"},\"hover_glyph\":null,\"muted_glyph\":null},\"id\":\"f2624ce7-551d-4b2a-83d7-b8abf0c28dbe\",\"type\":\"GlyphRenderer\"},{\"attributes\":{\"callback\":null,\"column_names\":[\"line_color\",\"line_alpha\",\"color\",\"fill_alpha\",\"height\",\"width\",\"y\",\"x\",\"label\"],\"data\":{\"chart_index\":[{\"intent\":\"decision_replies\"}],\"color\":[\"#f22c40\"],\"fill_alpha\":[0.8],\"height\":[1.0],\"intent\":[\"decision_replies\"],\"label\":[{\"intent\":\"decision_replies\"}],\"line_alpha\":[1.0],\"line_color\":[\"white\"],\"width\":[0.8],\"x\":[\"decision_replies\"],\"y\":[0.5]}},\"id\":\"29879b29-7340-4e1e-9457-6d1cbca07ec7\",\"type\":\"ColumnDataSource\"},{\"attributes\":{},\"id\":\"553a0768-d3f3-4b08-9eb7-7242caa7def7\",\"type\":\"ToolEvents\"},{\"attributes\":{\"fill_alpha\":{\"field\":\"fill_alpha\"},\"fill_color\":{\"field\":\"color\"},\"height\":{\"field\":\"height\",\"units\":\"data\"},\"line_color\":{\"field\":\"line_color\"},\"width\":{\"field\":\"width\",\"units\":\"data\"},\"x\":{\"field\":\"x\"},\"y\":{\"field\":\"y\"}},\"id\":\"0cc9d2a2-2388-4205-a45e-f839b3f9e697\",\"type\":\"Rect\"},{\"attributes\":{\"callback\":null,\"column_names\":[\"line_color\",\"line_alpha\",\"color\",\"fill_alpha\",\"height\",\"width\",\"y\",\"x\",\"label\"],\"data\":{\"chart_index\":[{\"intent\":\"locate_amenity\"}],\"color\":[\"#f22c40\"],\"fill_alpha\":[0.8],\"height\":[30.0],\"intent\":[\"locate_amenity\"],\"label\":[{\"intent\":\"locate_amenity\"}],\"line_alpha\":[1.0],\"line_color\":[\"white\"],\"width\":[0.8],\"x\":[\"locate_amenity\"],\"y\":[15.0]}},\"id\":\"f6205c06-cf45-4cdd-bc85-777f5a0d82b4\",\"type\":\"ColumnDataSource\"},{\"attributes\":{\"data_source\":{\"id\":\"b0bd74a8-e9b3-40f5-8841-02413abc2681\",\"type\":\"ColumnDataSource\"},\"glyph\":{\"id\":\"0bccb2db-32c7-4b90-bffd-5e03a6ad6a36\",\"type\":\"Rect\"},\"hover_glyph\":null,\"muted_glyph\":null},\"id\":\"94afa127-6e49-4142-abf9-8872faa2e300\",\"type\":\"GlyphRenderer\"},{\"attributes\":{\"callback\":null,\"column_names\":[\"line_color\",\"line_alpha\",\"color\",\"fill_alpha\",\"height\",\"width\",\"y\",\"x\",\"label\"],\"data\":{\"chart_index\":[{\"intent\":\"greetings\"}],\"color\":[\"#f22c40\"],\"fill_alpha\":[0.8],\"height\":[5.0],\"intent\":[\"greetings\"],\"label\":[{\"intent\":\"greetings\"}],\"line_alpha\":[1.0],\"line_color\":[\"white\"],\"width\":[0.8],\"x\":[\"greetings\"],\"y\":[2.5]}},\"id\":\"0f6618b2-7f98-4e5b-9666-b45dbcf5bb3f\",\"type\":\"ColumnDataSource\"},{\"attributes\":{\"callback\":null,\"factors\":[\"about_VA\",\"capabilities\",\"compound_questions\",\"decision_replies\",\"goodbyes\",\"greetings\",\"information_request\",\"locate_amenity\",\"navigation\",\"not_specified\",\"traffic_update\",\"turn_off\",\"turn_on\",\"turn_up\",\"weather\"]},\"id\":\"178dd0b2-b3fa-4367-b764-39ecccfc0ca5\",\"type\":\"FactorRange\"},{\"attributes\":{\"children\":[{\"id\":\"d839705d-6fa7-4bfb-912b-4f8f27c4420c\",\"type\":\"ToolbarBox\"},{\"id\":\"7c0f8b81-25ef-4534-911a-64561752eaaf\",\"type\":\"Column\"}]},\"id\":\"940d6a2f-d976-4899-9899-4771242f2ad9\",\"type\":\"Column\"},{\"attributes\":{\"fill_alpha\":{\"field\":\"fill_alpha\"},\"fill_color\":{\"field\":\"color\"},\"height\":{\"field\":\"height\",\"units\":\"data\"},\"line_color\":{\"field\":\"line_color\"},\"width\":{\"field\":\"width\",\"units\":\"data\"},\"x\":{\"field\":\"x\"},\"y\":{\"field\":\"y\"}},\"id\":\"19a85bad-8fd3-403e-997a-0bd8c9c67764\",\"type\":\"Rect\"},{\"attributes\":{\"callback\":null,\"column_names\":[\"line_color\",\"line_alpha\",\"color\",\"fill_alpha\",\"height\",\"width\",\"y\",\"x\",\"label\"],\"data\":{\"chart_index\":[{\"intent\":\"information_request\"}],\"color\":[\"#f22c40\"],\"fill_alpha\":[0.8],\"height\":[1.0],\"intent\":[\"information_request\"],\"label\":[{\"intent\":\"information_request\"}],\"line_alpha\":[1.0],\"line_color\":[\"white\"],\"width\":[0.8],\"x\":[\"information_request\"],\"y\":[0.5]}},\"id\":\"dbe67b08-e453-486c-822c-5e8edf1185b1\",\"type\":\"ColumnDataSource\"},{\"attributes\":{\"data_source\":{\"id\":\"bc820b52-ae8e-4b08-8c61-ac1def0770e0\",\"type\":\"ColumnDataSource\"},\"glyph\":{\"id\":\"03645c08-fe44-4164-a7c5-3b162b899108\",\"type\":\"Rect\"},\"hover_glyph\":null,\"muted_glyph\":null},\"id\":\"cc57cd1e-b08e-4fcc-8395-9cb31b68b474\",\"type\":\"GlyphRenderer\"},{\"attributes\":{\"plot\":{\"id\":\"be57ac38-5305-4488-b56d-b4a2f06eab8a\",\"subtype\":\"Chart\",\"type\":\"Plot\"}},\"id\":\"994cf2f5-12dc-42c4-941e-5df26008f20b\",\"type\":\"PanTool\"},{\"attributes\":{\"callback\":null,\"column_names\":[\"line_color\",\"line_alpha\",\"color\",\"fill_alpha\",\"height\",\"width\",\"y\",\"x\",\"label\"],\"data\":{\"chart_index\":[{\"intent\":\"weather\"}],\"color\":[\"#f22c40\"],\"fill_alpha\":[0.8],\"height\":[3.0],\"intent\":[\"weather\"],\"label\":[{\"intent\":\"weather\"}],\"line_alpha\":[1.0],\"line_color\":[\"white\"],\"width\":[0.8],\"x\":[\"weather\"],\"y\":[1.5]}},\"id\":\"87585af0-51a2-4cdf-b15e-b46c6ebc0e1d\",\"type\":\"ColumnDataSource\"},{\"attributes\":{\"dimension\":1,\"plot\":{\"id\":\"be57ac38-5305-4488-b56d-b4a2f06eab8a\",\"subtype\":\"Chart\",\"type\":\"Plot\"},\"ticker\":{\"id\":\"fcf3895d-7322-4acf-8ea1-c1601075b46e\",\"type\":\"BasicTicker\"}},\"id\":\"f0a60f1a-f1d5-4078-8637-5d7cebe8c3d8\",\"type\":\"Grid\"},{\"attributes\":{\"overlay\":{\"id\":\"9a3a0da9-3008-4e24-a9fa-06eabb8b9717\",\"type\":\"BoxAnnotation\"},\"plot\":{\"id\":\"be57ac38-5305-4488-b56d-b4a2f06eab8a\",\"subtype\":\"Chart\",\"type\":\"Plot\"}},\"id\":\"6f5385d5-318b-4106-9791-96123f52572e\",\"type\":\"BoxZoomTool\"},{\"attributes\":{},\"id\":\"d32de681-d71d-49b8-8ca7-2b8c70b502f5\",\"type\":\"CategoricalTicker\"},{\"attributes\":{\"bottom_units\":\"screen\",\"fill_alpha\":{\"value\":0.5},\"fill_color\":{\"value\":\"lightgrey\"},\"left_units\":\"screen\",\"level\":\"overlay\",\"line_alpha\":{\"value\":1.0},\"line_color\":{\"value\":\"black\"},\"line_dash\":[4,4],\"line_width\":{\"value\":2},\"plot\":null,\"render_mode\":\"css\",\"right_units\":\"screen\",\"top_units\":\"screen\"},\"id\":\"9a3a0da9-3008-4e24-a9fa-06eabb8b9717\",\"type\":\"BoxAnnotation\"},{\"attributes\":{},\"id\":\"fcf3895d-7322-4acf-8ea1-c1601075b46e\",\"type\":\"BasicTicker\"},{\"attributes\":{\"callback\":null,\"column_names\":[\"line_color\",\"line_alpha\",\"color\",\"fill_alpha\",\"height\",\"width\",\"y\",\"x\",\"label\"],\"data\":{\"chart_index\":[{\"intent\":\"turn_up\"}],\"color\":[\"#f22c40\"],\"fill_alpha\":[0.8],\"height\":[4.0],\"intent\":[\"turn_up\"],\"label\":[{\"intent\":\"turn_up\"}],\"line_alpha\":[1.0],\"line_color\":[\"white\"],\"width\":[0.8],\"x\":[\"turn_up\"],\"y\":[2.0]}},\"id\":\"18d729bd-7f9d-488a-a6b8-bc52546c4451\",\"type\":\"ColumnDataSource\"},{\"attributes\":{\"data_source\":{\"id\":\"37d647f1-59de-455f-968e-cbe3ae85cafb\",\"type\":\"ColumnDataSource\"},\"glyph\":{\"id\":\"68ebcb8d-ec33-4a0d-9f29-8d598e1e5c5b\",\"type\":\"Rect\"},\"hover_glyph\":null,\"muted_glyph\":null},\"id\":\"a15e1c2f-7b59-438d-ad69-6b132957501b\",\"type\":\"GlyphRenderer\"},{\"attributes\":{\"fill_alpha\":{\"field\":\"fill_alpha\"},\"fill_color\":{\"field\":\"color\"},\"height\":{\"field\":\"height\",\"units\":\"data\"},\"line_color\":{\"field\":\"line_color\"},\"width\":{\"field\":\"width\",\"units\":\"data\"},\"x\":{\"field\":\"x\"},\"y\":{\"field\":\"y\"}},\"id\":\"80822290-e4bc-479c-98bf-4bc0c65f41d8\",\"type\":\"Rect\"},{\"attributes\":{\"data_source\":{\"id\":\"8ccd7bb3-5df3-4760-86e6-35e07b71a6b5\",\"type\":\"ColumnDataSource\"},\"glyph\":{\"id\":\"0cc9d2a2-2388-4205-a45e-f839b3f9e697\",\"type\":\"Rect\"},\"hover_glyph\":null,\"muted_glyph\":null},\"id\":\"7d161310-8992-4d79-b12c-ca08fc3b56b1\",\"type\":\"GlyphRenderer\"},{\"attributes\":{\"callback\":null,\"column_names\":[\"line_color\",\"line_alpha\",\"color\",\"fill_alpha\",\"height\",\"width\",\"y\",\"x\",\"label\"],\"data\":{\"chart_index\":[{\"intent\":\"not_specified\"}],\"color\":[\"#f22c40\"],\"fill_alpha\":[0.8],\"height\":[1.0],\"intent\":[\"not_specified\"],\"label\":[{\"intent\":\"not_specified\"}],\"line_alpha\":[1.0],\"line_color\":[\"white\"],\"width\":[0.8],\"x\":[\"not_specified\"],\"y\":[0.5]}},\"id\":\"03b42c0d-7b8d-4531-a0d3-de9b12a221ac\",\"type\":\"ColumnDataSource\"},{\"attributes\":{\"below\":[{\"id\":\"29172608-33b1-457d-894e-e274d1020274\",\"type\":\"CategoricalAxis\"}],\"css_classes\":null,\"left\":[{\"id\":\"f0315101-c07b-449b-b734-fc0d126de95b\",\"type\":\"LinearAxis\"}],\"plot_height\":601,\"plot_width\":803,\"renderers\":[{\"id\":\"9a3a0da9-3008-4e24-a9fa-06eabb8b9717\",\"type\":\"BoxAnnotation\"},{\"id\":\"cc57cd1e-b08e-4fcc-8395-9cb31b68b474\",\"type\":\"GlyphRenderer\"},{\"id\":\"8af7110d-6db1-4771-94b6-a802836d4a6f\",\"type\":\"GlyphRenderer\"},{\"id\":\"9d6fa10d-91c0-43ac-9932-b7b0787d4d1d\",\"type\":\"GlyphRenderer\"},{\"id\":\"446e5975-e77d-4621-b66c-bc8ca4e48389\",\"type\":\"GlyphRenderer\"},{\"id\":\"a15e1c2f-7b59-438d-ad69-6b132957501b\",\"type\":\"GlyphRenderer\"},{\"id\":\"360421b2-e184-467f-bb14-d14478c61fbb\",\"type\":\"GlyphRenderer\"},{\"id\":\"ab6cfaf1-99cb-49f8-9445-de4a6f0df158\",\"type\":\"GlyphRenderer\"},{\"id\":\"924012e0-0f97-4a85-a2c8-8c1cd410cf61\",\"type\":\"GlyphRenderer\"},{\"id\":\"62fe2a90-bc37-418a-bcd9-dd76cf4a9c64\",\"type\":\"GlyphRenderer\"},{\"id\":\"b5f67c91-0cc5-4559-a569-99ee1ffa0e43\",\"type\":\"GlyphRenderer\"},{\"id\":\"94afa127-6e49-4142-abf9-8872faa2e300\",\"type\":\"GlyphRenderer\"},{\"id\":\"7d161310-8992-4d79-b12c-ca08fc3b56b1\",\"type\":\"GlyphRenderer\"},{\"id\":\"341a5fc8-f405-4d97-ba75-eb0c74fb9439\",\"type\":\"GlyphRenderer\"},{\"id\":\"f2624ce7-551d-4b2a-83d7-b8abf0c28dbe\",\"type\":\"GlyphRenderer\"},{\"id\":\"c100f596-e011-4798-a36d-2f72127eb187\",\"type\":\"GlyphRenderer\"},{\"id\":\"29172608-33b1-457d-894e-e274d1020274\",\"type\":\"CategoricalAxis\"},{\"id\":\"f0315101-c07b-449b-b734-fc0d126de95b\",\"type\":\"LinearAxis\"},{\"id\":\"f0a60f1a-f1d5-4078-8637-5d7cebe8c3d8\",\"type\":\"Grid\"}],\"title\":{\"id\":\"a1460fce-83ff-433e-bb4a-005fdf3acc60\",\"type\":\"Title\"},\"tool_events\":{\"id\":\"553a0768-d3f3-4b08-9eb7-7242caa7def7\",\"type\":\"ToolEvents\"},\"toolbar\":{\"id\":\"558dc9ce-40f8-48ff-b827-811393cd4b50\",\"type\":\"Toolbar\"},\"toolbar_location\":null,\"x_mapper_type\":\"auto\",\"x_range\":{\"id\":\"178dd0b2-b3fa-4367-b764-39ecccfc0ca5\",\"type\":\"FactorRange\"},\"y_mapper_type\":\"auto\",\"y_range\":{\"id\":\"69fb1bca-3224-4a9c-bd5e-89fcc2c2845f\",\"type\":\"Range1d\"}},\"id\":\"be57ac38-5305-4488-b56d-b4a2f06eab8a\",\"subtype\":\"Chart\",\"type\":\"Plot\"},{\"attributes\":{\"fill_alpha\":{\"field\":\"fill_alpha\"},\"fill_color\":{\"field\":\"color\"},\"height\":{\"field\":\"height\",\"units\":\"data\"},\"line_color\":{\"field\":\"line_color\"},\"width\":{\"field\":\"width\",\"units\":\"data\"},\"x\":{\"field\":\"x\"},\"y\":{\"field\":\"y\"}},\"id\":\"0bccb2db-32c7-4b90-bffd-5e03a6ad6a36\",\"type\":\"Rect\"},{\"attributes\":{\"data_source\":{\"id\":\"03b42c0d-7b8d-4531-a0d3-de9b12a221ac\",\"type\":\"ColumnDataSource\"},\"glyph\":{\"id\":\"e7c5d3ca-38f2-4d4d-8d7e-e2644e085b82\",\"type\":\"Rect\"},\"hover_glyph\":null,\"muted_glyph\":null},\"id\":\"b5f67c91-0cc5-4559-a569-99ee1ffa0e43\",\"type\":\"GlyphRenderer\"},{\"attributes\":{\"callback\":null,\"column_names\":[\"line_color\",\"line_alpha\",\"color\",\"fill_alpha\",\"height\",\"width\",\"y\",\"x\",\"label\"],\"data\":{\"chart_index\":[{\"intent\":\"compound_questions\"}],\"color\":[\"#f22c40\"],\"fill_alpha\":[0.8],\"height\":[2.0],\"intent\":[\"compound_questions\"],\"label\":[{\"intent\":\"compound_questions\"}],\"line_alpha\":[1.0],\"line_color\":[\"white\"],\"width\":[0.8],\"x\":[\"compound_questions\"],\"y\":[1.0]}},\"id\":\"be2064d1-abaa-4aa4-83e6-a680feb6f730\",\"type\":\"ColumnDataSource\"},{\"attributes\":{\"fill_alpha\":{\"field\":\"fill_alpha\"},\"fill_color\":{\"field\":\"color\"},\"height\":{\"field\":\"height\",\"units\":\"data\"},\"line_color\":{\"field\":\"line_color\"},\"width\":{\"field\":\"width\",\"units\":\"data\"},\"x\":{\"field\":\"x\"},\"y\":{\"field\":\"y\"}},\"id\":\"03645c08-fe44-4164-a7c5-3b162b899108\",\"type\":\"Rect\"},{\"attributes\":{\"plot\":{\"id\":\"be57ac38-5305-4488-b56d-b4a2f06eab8a\",\"subtype\":\"Chart\",\"type\":\"Plot\"}},\"id\":\"d8bb84a0-e3fc-4493-80bc-94f73a432c07\",\"type\":\"WheelZoomTool\"},{\"attributes\":{\"callback\":null,\"column_names\":[\"line_color\",\"line_alpha\",\"color\",\"fill_alpha\",\"height\",\"width\",\"y\",\"x\",\"label\"],\"data\":{\"chart_index\":[{\"intent\":\"goodbyes\"}],\"color\":[\"#f22c40\"],\"fill_alpha\":[0.8],\"height\":[4.0],\"intent\":[\"goodbyes\"],\"label\":[{\"intent\":\"goodbyes\"}],\"line_alpha\":[1.0],\"line_color\":[\"white\"],\"width\":[0.8],\"x\":[\"goodbyes\"],\"y\":[2.0]}},\"id\":\"37d647f1-59de-455f-968e-cbe3ae85cafb\",\"type\":\"ColumnDataSource\"},{\"attributes\":{\"plot\":{\"id\":\"be57ac38-5305-4488-b56d-b4a2f06eab8a\",\"subtype\":\"Chart\",\"type\":\"Plot\"}},\"id\":\"4c9eb758-f5a8-468d-8c3f-c7811bb06875\",\"type\":\"ResetTool\"},{\"attributes\":{\"data_source\":{\"id\":\"87585af0-51a2-4cdf-b15e-b46c6ebc0e1d\",\"type\":\"ColumnDataSource\"},\"glyph\":{\"id\":\"dc8cb0d9-5385-422f-9abb-4ce222b086a5\",\"type\":\"Rect\"},\"hover_glyph\":null,\"muted_glyph\":null},\"id\":\"c100f596-e011-4798-a36d-2f72127eb187\",\"type\":\"GlyphRenderer\"},{\"attributes\":{\"callback\":null,\"column_names\":[\"line_color\",\"line_alpha\",\"color\",\"fill_alpha\",\"height\",\"width\",\"y\",\"x\",\"label\"],\"data\":{\"chart_index\":[{\"intent\":\"turn_on\"}],\"color\":[\"#f22c40\"],\"fill_alpha\":[0.8],\"height\":[13.0],\"intent\":[\"turn_on\"],\"label\":[{\"intent\":\"turn_on\"}],\"line_alpha\":[1.0],\"line_color\":[\"white\"],\"width\":[0.8],\"x\":[\"turn_on\"],\"y\":[6.5]}},\"id\":\"61b96f80-6ba4-480a-b3ce-c272eb2e4dfd\",\"type\":\"ColumnDataSource\"},{\"attributes\":{\"active_drag\":\"auto\",\"active_scroll\":\"auto\",\"active_tap\":\"auto\",\"tools\":[{\"id\":\"994cf2f5-12dc-42c4-941e-5df26008f20b\",\"type\":\"PanTool\"},{\"id\":\"d8bb84a0-e3fc-4493-80bc-94f73a432c07\",\"type\":\"WheelZoomTool\"},{\"id\":\"6f5385d5-318b-4106-9791-96123f52572e\",\"type\":\"BoxZoomTool\"},{\"id\":\"ceeffbab-a0a6-4bcb-93a8-6cd878381bdf\",\"type\":\"SaveTool\"},{\"id\":\"4c9eb758-f5a8-468d-8c3f-c7811bb06875\",\"type\":\"ResetTool\"},{\"id\":\"33617d35-0ef2-4f01-8715-0144f2fcb7e7\",\"type\":\"HelpTool\"}]},\"id\":\"558dc9ce-40f8-48ff-b827-811393cd4b50\",\"type\":\"Toolbar\"},{\"attributes\":{\"callback\":null,\"column_names\":[\"line_color\",\"line_alpha\",\"color\",\"fill_alpha\",\"height\",\"width\",\"y\",\"x\",\"label\"],\"data\":{\"chart_index\":[{\"intent\":\"about_VA\"}],\"color\":[\"#f22c40\"],\"fill_alpha\":[0.8],\"height\":[1.0],\"intent\":[\"about_VA\"],\"label\":[{\"intent\":\"about_VA\"}],\"line_alpha\":[1.0],\"line_color\":[\"white\"],\"width\":[0.8],\"x\":[\"about_VA\"],\"y\":[0.5]}},\"id\":\"bc820b52-ae8e-4b08-8c61-ac1def0770e0\",\"type\":\"ColumnDataSource\"},{\"attributes\":{\"fill_alpha\":{\"field\":\"fill_alpha\"},\"fill_color\":{\"field\":\"color\"},\"height\":{\"field\":\"height\",\"units\":\"data\"},\"line_color\":{\"field\":\"line_color\"},\"width\":{\"field\":\"width\",\"units\":\"data\"},\"x\":{\"field\":\"x\"},\"y\":{\"field\":\"y\"}},\"id\":\"185ce5fd-84c1-40b2-b88a-8eba04daac13\",\"type\":\"Rect\"},{\"attributes\":{\"sizing_mode\":\"scale_width\",\"toolbar_location\":\"above\",\"tools\":[{\"id\":\"994cf2f5-12dc-42c4-941e-5df26008f20b\",\"type\":\"PanTool\"},{\"id\":\"d8bb84a0-e3fc-4493-80bc-94f73a432c07\",\"type\":\"WheelZoomTool\"},{\"id\":\"6f5385d5-318b-4106-9791-96123f52572e\",\"type\":\"BoxZoomTool\"},{\"id\":\"ceeffbab-a0a6-4bcb-93a8-6cd878381bdf\",\"type\":\"SaveTool\"},{\"id\":\"4c9eb758-f5a8-468d-8c3f-c7811bb06875\",\"type\":\"ResetTool\"},{\"id\":\"33617d35-0ef2-4f01-8715-0144f2fcb7e7\",\"type\":\"HelpTool\"}]},\"id\":\"d839705d-6fa7-4bfb-912b-4f8f27c4420c\",\"type\":\"ToolbarBox\"},{\"attributes\":{\"axis_label\":\"Intent\",\"formatter\":{\"id\":\"0f6511c4-907f-41fb-8dba-84d3e2efda48\",\"type\":\"CategoricalTickFormatter\"},\"major_label_orientation\":0.7853981633974483,\"plot\":{\"id\":\"be57ac38-5305-4488-b56d-b4a2f06eab8a\",\"subtype\":\"Chart\",\"type\":\"Plot\"},\"ticker\":{\"id\":\"d32de681-d71d-49b8-8ca7-2b8c70b502f5\",\"type\":\"CategoricalTicker\"}},\"id\":\"29172608-33b1-457d-894e-e274d1020274\",\"type\":\"CategoricalAxis\"},{\"attributes\":{\"data_source\":{\"id\":\"0f6618b2-7f98-4e5b-9666-b45dbcf5bb3f\",\"type\":\"ColumnDataSource\"},\"glyph\":{\"id\":\"f4536db7-65cb-4c91-8ad3-793c6622e8f8\",\"type\":\"Rect\"},\"hover_glyph\":null,\"muted_glyph\":null},\"id\":\"360421b2-e184-467f-bb14-d14478c61fbb\",\"type\":\"GlyphRenderer\"}],\"root_ids\":[\"940d6a2f-d976-4899-9899-4771242f2ad9\"]},\"title\":\"Bokeh Application\",\"version\":\"0.12.5\"}};\n",
       "            var render_items = [{\"docid\":\"e7bc0ac0-668f-496f-ae25-b6bfa2af909d\",\"elementid\":\"7be1c772-8272-4923-a955-596175b40dd2\",\"modelid\":\"940d6a2f-d976-4899-9899-4771242f2ad9\"}];\n",
       "            \n",
       "            Bokeh.embed.embed_items(docs_json, render_items);\n",
       "          };\n",
       "          if (document.readyState != \"loading\") fn();\n",
       "          else document.addEventListener(\"DOMContentLoaded\", fn);\n",
       "        })();\n",
       "      },\n",
       "      function(Bokeh) {\n",
       "      }\n",
       "    ];\n",
       "  \n",
       "    function run_inline_js() {\n",
       "      \n",
       "      if ((window.Bokeh !== undefined) || (force === true)) {\n",
       "        for (var i = 0; i < inline_js.length; i++) {\n",
       "          inline_js[i](window.Bokeh);\n",
       "        }if (force === true) {\n",
       "          display_loaded();\n",
       "        }} else if (Date.now() < window._bokeh_timeout) {\n",
       "        setTimeout(run_inline_js, 100);\n",
       "      } else if (!window._bokeh_failed_load) {\n",
       "        console.log(\"Bokeh: BokehJS failed to load within specified timeout.\");\n",
       "        window._bokeh_failed_load = true;\n",
       "      } else if (force !== true) {\n",
       "        var cell = $(document.getElementById(\"7be1c772-8272-4923-a955-596175b40dd2\")).parents('.cell').data().cell;\n",
       "        cell.output_area.append_execute_result(NB_LOAD_WARNING)\n",
       "      }\n",
       "  \n",
       "    }\n",
       "  \n",
       "    if (window._bokeh_is_loading === 0) {\n",
       "      console.log(\"Bokeh: BokehJS loaded, going straight to plotting\");\n",
       "      run_inline_js();\n",
       "    } else {\n",
       "      load_libs(js_urls, function() {\n",
       "        console.log(\"Bokeh: BokehJS plotting callback run at\", now());\n",
       "        run_inline_js();\n",
       "      });\n",
       "    }\n",
       "  }(this));\n",
       "</script>\n",
       "                    \n",
       "                \n",
       "        </div>"
      ],
      "text/plain": [
       "<IPython.core.display.HTML object>"
      ]
     },
     "metadata": {},
     "output_type": "display_data"
    }
   ],
   "source": [
    "display(a.log)"
   ]
  },
  {
   "cell_type": "code",
   "execution_count": null,
   "metadata": {
    "collapsed": true
   },
   "outputs": [],
   "source": []
  }
 ],
 "metadata": {
  "anaconda-cloud": {},
  "celltoolbar": "Edit Metadata",
  "kernelspec": {
   "display_name": "pySpark (Spark 1.6.0) Python 2",
   "language": "python",
   "name": "pyspark1.6python2"
  },
  "language_info": {
   "codemirror_mode": {
    "name": "ipython",
    "version": 2
   },
   "file_extension": ".py",
   "mimetype": "text/x-python",
   "name": "python",
   "nbconvert_exporter": "python",
   "pygments_lexer": "ipython2",
   "version": "2.7.12"
  }
 },
 "nbformat": 4,
 "nbformat_minor": 1
}
